{
 "cells": [
  {
   "cell_type": "code",
   "execution_count": 13,
   "metadata": {},
   "outputs": [],
   "source": [
    "import os\n",
    "import torch\n",
    "import torch.nn as nn\n",
    "\n",
    "import torchvision\n",
    "from torchvision import transforms\n",
    "import torch.nn.functional as F\n",
    "\n",
    "\n",
    "import matplotlib.pyplot as plt\n",
    "import numpy as np\n",
    "from PIL import Image"
   ]
  },
  {
   "cell_type": "code",
   "execution_count": 2,
   "metadata": {},
   "outputs": [],
   "source": [
    "class Encoder(nn.Module):\n",
    "    \"\"\"\n",
    "    The encoder part of the U-Net, built from a pretrained ShuffleNetV2.\n",
    "    It captures features at multiple scales for the skip connections.\n",
    "    \"\"\"\n",
    "    def __init__(self, original_model):\n",
    "        super().__init__()\n",
    "        # We take layers directly from the pretrained ShuffleNetV2\n",
    "        self.conv1 = original_model.conv1\n",
    "        self.maxpool = original_model.maxpool\n",
    "        self.stage2 = original_model.stage2\n",
    "        self.stage3 = original_model.stage3\n",
    "        self.stage4 = original_model.stage4\n",
    "        self.conv5 = original_model.conv5\n",
    "\n",
    "    def forward(self, x):\n",
    "        # Input: [N, 3, 64, 64]\n",
    "        s0 = x\n",
    "        x = self.conv1(x)    # -> [N, 24, 32, 32]\n",
    "        s1 = x\n",
    "        x = self.maxpool(x)  # -> [N, 24, 16, 16]\n",
    "        s2 = x\n",
    "        x = self.stage2(x)   # -> [N, 116, 8, 8]\n",
    "        s3 = x\n",
    "        x = self.stage3(x)   # -> [N, 232, 4, 4]\n",
    "        s4 = x\n",
    "        x = self.stage4(x)   # -> [N, 464, 2, 2] (Note: ShuffleNetV2 x1.0 has 464 out channels here)\n",
    "\n",
    "        # The bottleneck is the final feature map before the fully connected layers\n",
    "        bottleneck = self.conv5(x) # -> [N, 1024, 2, 2]\n",
    "\n",
    "        # Return the bottleneck and the skip connections in order from deep to shallow\n",
    "        return bottleneck, [s4, s3, s2, s1]\n",
    "    \n",
    "\n",
    "\n",
    "class DecoderBlock(nn.Module):\n",
    "    \"\"\"\n",
    "    A single block in the decoder path. It concatenates the upsampled features\n",
    "    with the corresponding skip connection and applies two convolutions.\n",
    "    \"\"\"\n",
    "    def __init__(self, in_channels, skip_channels, out_channels):\n",
    "        super().__init__()\n",
    "        # The first convolution takes the concatenated feature maps\n",
    "        self.conv1 = nn.Conv2d(in_channels + skip_channels, out_channels, kernel_size=3, padding=1, bias=False)\n",
    "        self.bn1 = nn.BatchNorm2d(out_channels)\n",
    "        self.relu1 = nn.ReLU(inplace=True)\n",
    "\n",
    "        self.conv2 = nn.Conv2d(out_channels, out_channels, kernel_size=3, padding=1, bias=False)\n",
    "        self.bn2 = nn.BatchNorm2d(out_channels)\n",
    "        self.relu2 = nn.ReLU(inplace=True)\n",
    "\n",
    "    def forward(self, x, skip_connection):\n",
    "        # Concatenate along the channel dimension\n",
    "        x = torch.cat([x, skip_connection], dim=1)\n",
    "        x = self.relu1(self.bn1(self.conv1(x)))\n",
    "        x = self.relu2(self.bn2(self.conv2(x)))\n",
    "        return x\n",
    "    \n",
    "\n",
    "class Decoder(nn.Module):\n",
    "    \"\"\"\n",
    "    The decoder part of the U-Net. It takes the bottleneck and skip connections\n",
    "    from the Encoder and upsamples them to reconstruct the original image.\n",
    "    \"\"\"\n",
    "    def __init__(self, n_classes=3):\n",
    "        super().__init__()\n",
    "        # Center (Bottleneck processing)\n",
    "        self.center_conv = nn.Conv2d(1024, 512, kernel_size=1)\n",
    "\n",
    "        # Decoder blocks\n",
    "        # Skip connection channels (from deep to shallow): 232, 116, 24, 24\n",
    "        self.dec_block1 = DecoderBlock(512, 232, 256)\n",
    "        self.dec_block2 = DecoderBlock(256, 116, 128)\n",
    "        self.dec_block3 = DecoderBlock(128, 24, 64)\n",
    "        self.dec_block4 = DecoderBlock(64, 24, 32)\n",
    "\n",
    "        # Final output layer\n",
    "        self.final_conv = nn.Conv2d(32, n_classes, kernel_size=1)\n",
    "\n",
    "    def forward(self, bottleneck, skips):\n",
    "        \"\"\"\n",
    "        Args:\n",
    "            bottleneck (torch.Tensor): The feature map from the deepest part of the encoder.\n",
    "            skips (list of torch.Tensor): A list of feature maps from the encoder's\n",
    "                                          skip connections, ordered from deep to shallow.\n",
    "        \"\"\"\n",
    "        # Center\n",
    "        d = self.center_conv(bottleneck) # -> [N, 512, 2, 2]\n",
    "\n",
    "        # Decoder path with skip connections\n",
    "        d = F.interpolate(d, scale_factor=2, mode='bilinear', align_corners=True) # 2x2 -> 4x4\n",
    "        d = self.dec_block1(d, skips[0]) # Use first skip connection\n",
    "\n",
    "        d = F.interpolate(d, scale_factor=2, mode='bilinear', align_corners=True) # 4x4 -> 8x8\n",
    "        d = self.dec_block2(d, skips[1]) # Use second skip connection\n",
    "\n",
    "        d = F.interpolate(d, scale_factor=2, mode='bilinear', align_corners=True) # 8x8 -> 16x16\n",
    "        d = self.dec_block3(d, skips[2]) # Use third skip connection\n",
    "\n",
    "        d = F.interpolate(d, scale_factor=2, mode='bilinear', align_corners=True) # 16x16 -> 32x32\n",
    "        d = self.dec_block4(d, skips[3]) # Use fourth skip connection\n",
    "\n",
    "        # Final upsampling and convolution\n",
    "        d = F.interpolate(d, scale_factor=2, mode='bilinear', align_corners=True) # 32x32 -> 64x64\n",
    "        output = self.final_conv(d)\n",
    "\n",
    "        return torch.sigmoid(output)"
   ]
  },
  {
   "cell_type": "code",
   "execution_count": 3,
   "metadata": {},
   "outputs": [],
   "source": [
    "device = torch.device(\"cuda\" if torch.cuda.is_available() else \"cpu\")"
   ]
  },
  {
   "cell_type": "code",
   "execution_count": 4,
   "metadata": {},
   "outputs": [
    {
     "name": "stdout",
     "output_type": "stream",
     "text": [
      "Imagen './data/sample_index_1205_label_24.png' cargada y procesada correctamente.\n",
      "Shape del tensor de entrada para el modelo: torch.Size([1, 3, 64, 64])\n"
     ]
    }
   ],
   "source": [
    "# Define the image transformations\n",
    "image_transforms = transforms.Compose([\n",
    "    transforms.Resize((64, 64)),\n",
    "    transforms.ToTensor(),\n",
    "])\n",
    "\n",
    "image_path = \"./data/sample_index_1205_label_24.png\" \n",
    "try:\n",
    "    input_image_pil = Image.open(image_path).convert('RGB')\n",
    "    input_tensor = image_transforms(input_image_pil)\n",
    "    sample_inputs = input_tensor.unsqueeze(0).to(device)\n",
    "\n",
    "    print(f\"Imagen '{image_path}' cargada y procesada correctamente.\")\n",
    "    print(f\"Shape del tensor de entrada para el modelo: {sample_inputs.shape}\")\n",
    "\n",
    "except FileNotFoundError:\n",
    "    print(f\"ERROR: No se pudo encontrar la imagen en la ruta '{image_path}'.\")\n",
    "    print(\"Por favor, verifica que la ruta y el nombre del archivo son correctos.\")"
   ]
  },
  {
   "cell_type": "code",
   "execution_count": 5,
   "metadata": {},
   "outputs": [
    {
     "data": {
      "text/plain": [
       "Decoder(\n",
       "  (center_conv): Conv2d(1024, 512, kernel_size=(1, 1), stride=(1, 1))\n",
       "  (dec_block1): DecoderBlock(\n",
       "    (conv1): Conv2d(744, 256, kernel_size=(3, 3), stride=(1, 1), padding=(1, 1), bias=False)\n",
       "    (bn1): BatchNorm2d(256, eps=1e-05, momentum=0.1, affine=True, track_running_stats=True)\n",
       "    (relu1): ReLU(inplace=True)\n",
       "    (conv2): Conv2d(256, 256, kernel_size=(3, 3), stride=(1, 1), padding=(1, 1), bias=False)\n",
       "    (bn2): BatchNorm2d(256, eps=1e-05, momentum=0.1, affine=True, track_running_stats=True)\n",
       "    (relu2): ReLU(inplace=True)\n",
       "  )\n",
       "  (dec_block2): DecoderBlock(\n",
       "    (conv1): Conv2d(372, 128, kernel_size=(3, 3), stride=(1, 1), padding=(1, 1), bias=False)\n",
       "    (bn1): BatchNorm2d(128, eps=1e-05, momentum=0.1, affine=True, track_running_stats=True)\n",
       "    (relu1): ReLU(inplace=True)\n",
       "    (conv2): Conv2d(128, 128, kernel_size=(3, 3), stride=(1, 1), padding=(1, 1), bias=False)\n",
       "    (bn2): BatchNorm2d(128, eps=1e-05, momentum=0.1, affine=True, track_running_stats=True)\n",
       "    (relu2): ReLU(inplace=True)\n",
       "  )\n",
       "  (dec_block3): DecoderBlock(\n",
       "    (conv1): Conv2d(152, 64, kernel_size=(3, 3), stride=(1, 1), padding=(1, 1), bias=False)\n",
       "    (bn1): BatchNorm2d(64, eps=1e-05, momentum=0.1, affine=True, track_running_stats=True)\n",
       "    (relu1): ReLU(inplace=True)\n",
       "    (conv2): Conv2d(64, 64, kernel_size=(3, 3), stride=(1, 1), padding=(1, 1), bias=False)\n",
       "    (bn2): BatchNorm2d(64, eps=1e-05, momentum=0.1, affine=True, track_running_stats=True)\n",
       "    (relu2): ReLU(inplace=True)\n",
       "  )\n",
       "  (dec_block4): DecoderBlock(\n",
       "    (conv1): Conv2d(88, 32, kernel_size=(3, 3), stride=(1, 1), padding=(1, 1), bias=False)\n",
       "    (bn1): BatchNorm2d(32, eps=1e-05, momentum=0.1, affine=True, track_running_stats=True)\n",
       "    (relu1): ReLU(inplace=True)\n",
       "    (conv2): Conv2d(32, 32, kernel_size=(3, 3), stride=(1, 1), padding=(1, 1), bias=False)\n",
       "    (bn2): BatchNorm2d(32, eps=1e-05, momentum=0.1, affine=True, track_running_stats=True)\n",
       "    (relu2): ReLU(inplace=True)\n",
       "  )\n",
       "  (final_conv): Conv2d(32, 3, kernel_size=(1, 1), stride=(1, 1))\n",
       ")"
      ]
     },
     "execution_count": 5,
     "metadata": {},
     "output_type": "execute_result"
    }
   ],
   "source": [
    "weights = torchvision.models.ShuffleNet_V2_X1_0_Weights.IMAGENET1K_V1\n",
    "shufflenet_original = torchvision.models.shufflenet_v2_x1_0(weights=weights)\n",
    "\n",
    "loaded_encoder = Encoder(shufflenet_original)\n",
    "loaded_decoder = Decoder(n_classes=3)\n",
    "\n",
    "loaded_encoder.to(device)\n",
    "loaded_decoder.to(device)"
   ]
  },
  {
   "cell_type": "code",
   "execution_count": 6,
   "metadata": {},
   "outputs": [
    {
     "data": {
      "text/plain": [
       "<All keys matched successfully>"
      ]
     },
     "execution_count": 6,
     "metadata": {},
     "output_type": "execute_result"
    }
   ],
   "source": [
    "model_path = \"autoencoder_shufflenet.pth\"\n",
    "checkpoint = torch.load(model_path)\n",
    "\n",
    "loaded_encoder.load_state_dict(checkpoint['encoder_state_dict'])\n",
    "loaded_decoder.load_state_dict(checkpoint['decoder_state_dict'])\n"
   ]
  },
  {
   "cell_type": "code",
   "execution_count": 8,
   "metadata": {},
   "outputs": [
    {
     "name": "stdout",
     "output_type": "stream",
     "text": [
      "Shape of latent bottleneck: torch.Size([1, 1024, 2, 2])\n",
      "Number of skip connections: 4\n",
      "Shapes of skip connections: [torch.Size([1, 232, 4, 4]), torch.Size([1, 116, 8, 8]), torch.Size([1, 24, 16, 16]), torch.Size([1, 24, 32, 32])]\n"
     ]
    },
    {
     "data": {
      "image/png": "[encoded data removed]",
      "text/plain": [
       "<Figure size 800x400 with 2 Axes>"
      ]
     },
     "metadata": {},
     "output_type": "display_data"
    }
   ],
   "source": [
    "# Use torch.no_grad() to disable gradient calculations for inference\n",
    "with torch.no_grad():\n",
    "\n",
    "\n",
    "    # Get the model's reconstructions\n",
    "    latent_bottleneck, latent_skips = loaded_encoder(sample_inputs)\n",
    "\n",
    "    print(f\"Shape of latent bottleneck: {latent_bottleneck.shape}\")\n",
    "    print(f\"Number of skip connections: {len(latent_skips)}\")\n",
    "    print(f\"Shapes of skip connections: {[skip.shape for skip in latent_skips]}\")\n",
    "\n",
    "    reconstructed_images = loaded_decoder(latent_bottleneck, latent_skips)\n",
    "\n",
    "# Move tensors to the CPU and convert to NumPy arrays for plotting\n",
    "original_image_cpu = sample_inputs.cpu().numpy()\n",
    "reconstructed_image_cpu = reconstructed_images.cpu().numpy()\n",
    "\n",
    "\n"
   ]
  },
  {
   "cell_type": "code",
   "execution_count": 10,
   "metadata": {},
   "outputs": [
    {
     "data": {
      "text/plain": [
       "torch.Size([1, 1024, 2, 2])"
      ]
     },
     "execution_count": 10,
     "metadata": {},
     "output_type": "execute_result"
    }
   ],
   "source": [
    "# --- Visualización para una sola imagen ---\n",
    "plt.figure(figsize=(8, 4))\n",
    "plt.suptitle(\"Original vs. Reconstructed Image\", fontsize=16)\n",
    "\n",
    "# Muestra la imagen original\n",
    "ax = plt.subplot(1, 2, 1)\n",
    "# Usamos [0] para quitar la dimensión de batch y luego transponemos de (C, H, W) a (H, W, C)\n",
    "plt.imshow(np.transpose(original_image_cpu[0], (1, 2, 0)))\n",
    "ax.set_title(\"Original\")\n",
    "ax.axis(\"off\")\n",
    "\n",
    "# Muestra la imagen reconstruida\n",
    "ax = plt.subplot(1, 2, 2)\n",
    "# Hacemos lo mismo para la imagen reconstruida\n",
    "plt.imshow(np.transpose(reconstructed_image_cpu[0], (1, 2, 0)))\n",
    "ax.set_title(\"Reconstructed\")\n",
    "ax.axis(\"off\")\n",
    "\n",
    "plt.tight_layout(rect=[0, 0, 1, 0.96])\n",
    "plt.show()"
   ]
  },
  {
   "cell_type": "code",
   "execution_count": 12,
   "metadata": {},
   "outputs": [],
   "source": [
    "bottleneck_cpu = latent_bottleneck.cpu()\n",
    "skips_cpu = [s.cpu() for s in latent_skips]\n",
    "\n",
    "# 2. Crear un diccionario para almacenar los tensores.\n",
    "datos_latentes_para_guardar = {\n",
    "    'bottleneck': bottleneck_cpu,\n",
    "    'skips': skips_cpu\n",
    "}\n",
    "\n",
    "nombre_archivo_latente = \"rep_lat_sample_index_1205_label_24.pth\"\n",
    "torch.save(datos_latentes_para_guardar, nombre_archivo_latente)"
   ]
  },
  {
   "cell_type": "code",
   "execution_count": 14,
   "metadata": {},
   "outputs": [
    {
     "name": "stdout",
     "output_type": "stream",
     "text": [
      "--- Comparación de Tamaño de Almacenamiento ---\n",
      "Imagen de entrada (tensor): 49.18 KB\n",
      "Solo el Bottleneck:          17.19 KB\n",
      "Representación Latente Completa (Bottleneck + Skips): 181.82 KB\n",
      "\n",
      "--- Ratios ---\n",
      "El espacio latente completo ocupa 3.70 veces el espacio de la imagen de entrada.\n",
      "El bottleneck por sí solo ocupa 0.35 veces el espacio de la imagen de entrada (compresión).\n"
     ]
    }
   ],
   "source": [
    "# 1. Guardar la imagen de entrada como un tensor\n",
    "input_tensor_path = \"input_tensor.pth\"\n",
    "torch.save(sample_inputs.cpu(), input_tensor_path)\n",
    "\n",
    "# 2. Guardar la representación latente (bottleneck + skips)\n",
    "latent_representation = {\n",
    "    'bottleneck': latent_bottleneck.cpu(),\n",
    "    'skips': [s.cpu() for s in latent_skips]\n",
    "}\n",
    "latent_path = \"latent_representation.pth\"\n",
    "torch.save(latent_representation, latent_path)\n",
    "\n",
    "# 3. Guardar solo el bottleneck (para comparación)\n",
    "bottleneck_path = \"bottleneck_only.pth\"\n",
    "torch.save(latent_bottleneck.cpu(), bottleneck_path)\n",
    "\n",
    "# 4. Medir los tamaños de los archivos en disco\n",
    "size_input_kb = os.path.getsize(input_tensor_path) / 1024\n",
    "size_latent_kb = os.path.getsize(latent_path) / 1024\n",
    "size_bottleneck_kb = os.path.getsize(bottleneck_path) / 1024\n",
    "\n",
    "# 5. Imprimir los resultados\n",
    "print(\"--- Comparación de Tamaño de Almacenamiento ---\")\n",
    "print(f\"Imagen de entrada (tensor): {size_input_kb:.2f} KB\")\n",
    "print(f\"Solo el Bottleneck:          {size_bottleneck_kb:.2f} KB\")\n",
    "print(f\"Representación Latente Completa (Bottleneck + Skips): {size_latent_kb:.2f} KB\")\n",
    "\n",
    "# Calcular ratios\n",
    "ratio_completo = size_latent_kb / size_input_kb\n",
    "ratio_bottleneck = size_bottleneck_kb / size_input_kb\n",
    "\n",
    "print(\"\\n--- Ratios ---\")\n",
    "print(f\"El espacio latente completo ocupa {ratio_completo:.2f} veces el espacio de la imagen de entrada.\")\n",
    "print(f\"El bottleneck por sí solo ocupa {ratio_bottleneck:.2f} veces el espacio de la imagen de entrada (compresión).\")\n",
    "\n",
    "# Limpiar los archivos temporales\n",
    "os.remove(input_tensor_path)\n",
    "os.remove(latent_path)\n",
    "os.remove(bottleneck_path)"
   ]
  },
  {
   "cell_type": "code",
   "execution_count": null,
   "metadata": {},
   "outputs": [],
   "source": []
  }
 ],
 "metadata": {
  "kernelspec": {
   "display_name": "Python 3",
   "language": "python",
   "name": "python3"
  },
  "language_info": {
   "codemirror_mode": {
    "name": "ipython",
    "version": 3
   },
   "file_extension": ".py",
   "mimetype": "text/x-python",
   "name": "python",
   "nbconvert_exporter": "python",
   "pygments_lexer": "ipython3",
   "version": "3.12.4"
  }
 },
 "nbformat": 4,
 "nbformat_minor": 2
}
